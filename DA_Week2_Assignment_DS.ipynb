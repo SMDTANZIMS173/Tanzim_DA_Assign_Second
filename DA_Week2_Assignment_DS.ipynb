{
 "cells": [
  {
   "cell_type": "markdown",
   "metadata": {},
   "source": [
    "Assignment-2"
   ]
  },
  {
   "cell_type": "markdown",
   "metadata": {},
   "source": [
    " 1. Discuss string slicing and provide example"
   ]
  },
  {
   "cell_type": "markdown",
   "metadata": {},
   "source": [
    "1. String slicing in Python is a way to extract specific parts (substrings) of a string. With slicing, you can access a range of characters from a string\n",
    "The Syntax for this is:\n",
    "String_name[start:stop:step]\n",
    "\n",
    "Lets see some of the examples of slicing"
   ]
  },
  {
   "cell_type": "code",
   "execution_count": null,
   "metadata": {},
   "outputs": [
    {
     "name": "stdout",
     "output_type": "stream",
     "text": [
      "Sultana\n",
      "anatluS miznaT\n"
     ]
    }
   ],
   "source": [
    "Str=\"Tanzim Sultana\"\n",
    "print(Str[7:])  # it will slice from 7 to end of the string\n",
    "print(Str[::-1])  #Prints the string in reverse format"
   ]
  },
  {
   "cell_type": "markdown",
   "metadata": {},
   "source": [
    "2. Explain the key features of lists in Python"
   ]
  },
  {
   "cell_type": "markdown",
   "metadata": {},
   "source": [
    "* Lists in Python are versatile, ordered mutable collections that can store multiple items that can store different data structures as well. Here are the key features of lists\n",
    "\n",
    "Lets Understand it with a large program"
   ]
  },
  {
   "cell_type": "code",
   "execution_count": null,
   "metadata": {},
   "outputs": [
    {
     "name": "stdout",
     "output_type": "stream",
     "text": [
      "print List: ['Tanzim', 'pwskills', 'Ekta', 'Ajay', (1, 2, 3), 1, 1, 2.4]\n",
      "Python has feature of accesing with index value : Ekta\n",
      "List is mutable : ['Tanzim', 'pwskills', 'Ekta', 'Ajay', [1, 2, 3], 1, 1, 2.4]\n",
      "List with Duplicate Items: ['Tanzim', 'pwskills', 'Ekta', 'Ajay', [1, 2, 3], 1, 1, 2.4]\n",
      "List with dynamic Size after adding an item: ['Tanzim', 'pwskills', 'Ekta', 'Ajay', [1, 2, 3], 1, 1, 2.4, 'Rani']\n",
      "Adding two Lists: ['Tanzim', 'pwskills', 'Ekta', 'Ajay', [1, 2, 3], 1, 1, 2.4, 'Rani', 4, 5, 6]\n",
      "Sorting elemenst: [3, 2, 1]\n",
      "Tanzim pwskills Ekta Ajay [1, 2, 3] 1 1 2.4 Rani "
     ]
    }
   ],
   "source": [
    "List=[\"Tanzim\",\"pwskills\",\"Ekta\",\"Ajay\",(1,2,3),1,1,2.4] # List has a feature of storing different data types and data structures \n",
    "print(\"print List:\",List) \n",
    "print(\"Python has feature of accesing with index value :\",List[2]) \n",
    "List[4]=[1,2,3]  #changing tuple to list\n",
    "print(\"List is mutable :\",List)\n",
    "print(\"List with Duplicate Items:\",List) #List has duplicate items\n",
    "List.append(\"Rani\")\n",
    "print(\"List with dynamic Size after adding an item:\",List)\n",
    "#Adding two lists\n",
    "l2=[4,5,6]\n",
    "print(\"Adding two Lists:\",List+l2)\n",
    "#sorting elements\n",
    "L1=[3,2,1]\n",
    "print(\"Sorting elemenst:\",L1)\n",
    "#Iterating elemenst in List\n",
    "for i in List:\n",
    "    print(i,end=\" \")\n",
    "\n",
    "\n",
    "#above all are the features of list"
   ]
  },
  {
   "cell_type": "markdown",
   "metadata": {},
   "source": [
    "3. Describe how to access, modify, and delete elements in a list with examples"
   ]
  },
  {
   "cell_type": "code",
   "execution_count": null,
   "metadata": {},
   "outputs": [
    {
     "name": "stdout",
     "output_type": "stream",
     "text": [
      "['Tanzim', 'pwskills', 'Ekta', 'Ajay', (1, 2, 3), 1]\n",
      "Adding Item: ['Tanzim', 'pwskills', 'Ekta', 'Ajay', (1, 2, 3), 1, 1, 2.4, 'Raja']\n",
      "modifying item: ['Tanzim', 'pwskills', 'Ekta', 'Ajay', (1, 2, 3), 'Python', 1, 2.4, 'Raja']\n",
      "elements taht is removed: ['pwskills', 'Ekta', 'Ajay', (1, 2, 3), 'Python', 1, 2.4, 'Raja']\n"
     ]
    }
   ],
   "source": [
    "#accessing\n",
    "\n",
    "List=[\"Tanzim\",\"pwskills\",\"Ekta\",\"Ajay\",(1,2,3),1,1,2.4]\n",
    "print(List[:6])  #-->Accessing till 6 items\n",
    "\n",
    "#Modifying--->Adding,updating items\n",
    "\n",
    "List.append(\"Raja\")\n",
    "print(\"Adding Item:\",List)\n",
    "\n",
    "# Updating elements\n",
    "\n",
    "List[5]=\"Python\"\n",
    "print(\"modifying item:\", List)\n",
    "\n",
    "#removing elements in list\n",
    "\n",
    "List.remove(\"Tanzim\")\n",
    "print(\"elements that is removed:\", List)  "
   ]
  },
  {
   "cell_type": "markdown",
   "metadata": {},
   "source": [
    "4. Compare and contrast tuples and lists with examples\n",
    "Lets see their Syntax\n",
    "\n",
    "*. tuple --> ()\n",
    "*. List  --> []"
   ]
  },
  {
   "cell_type": "code",
   "execution_count": 35,
   "metadata": {},
   "outputs": [
    {
     "name": "stdout",
     "output_type": "stream",
     "text": [
      "List can store different data types: ['A', 'B', 'C', 1, 2]\n",
      "Tuples can also store different ds: (1, 1, 2, 3, 'A', 'B', [1, 2, 3])\n",
      "Lists are mutable: ['D', 'B', 'C', 1, 2]\n",
      "List can have different manipulation operations: ['Ramya', 2, 1, 'C', 'D']\n",
      "Tuples has count(),index() operations: 2 0\n",
      "unpacking tuple elements: 1 2 3\n"
     ]
    }
   ],
   "source": [
    "L=[\"A\",\"B\",\"C\",1,2]\n",
    "t=(1,1,2,3,\"A\",\"B\",[1,2,3])\n",
    "print(\"List can store different data types:\",L)\n",
    "print(\"Tuples can also store different ds:\",t)\n",
    "L[0]=\"D\"\n",
    "print(\"Lists are mutable:\",L)\n",
    "#t[0]=2 -->raises an error as tuples cannot have item assignment\n",
    "L.append(\"Ramya\")\n",
    "L.remove(\"B\")\n",
    "L.reverse()\n",
    "print(\"List can have different manipulation operations:\",L)\n",
    "\n",
    "#Tupes only have count(),index()\n",
    "\n",
    "print(\"Tuples has count(),index() operations:\",t.count(1),t.index(1))\n",
    "\n",
    "#unpacking is possible in Tuples but not in lists\n",
    "\n",
    "t1=(1,2,3)\n",
    "a,b,c=t1\n",
    "print(\"unpacking tuple elements:\",a,b,c)\n"
   ]
  },
  {
   "cell_type": "markdown",
   "metadata": {},
   "source": [
    "5. Describe the key features of sets and provide examples of their use\n"
   ]
  },
  {
   "cell_type": "markdown",
   "metadata": {},
   "source": [
    "1. Sets in Python are collections that store unique, unordered elements. They are highly useful for operations involving membership tests, duplicates removal, and mathematical set operations like union, intersection, and difference. "
   ]
  },
  {
   "cell_type": "code",
   "execution_count": null,
   "metadata": {},
   "outputs": [
    {
     "name": "stdout",
     "output_type": "stream",
     "text": [
      "Sets prints unique elements to maintain the feature of hashing: {1, 2, 3, 4}\n",
      "Adding item to sets {1, 2, 3, 4, 'tanzim'}\n",
      "membership in sets: True\n",
      "Allows only immutable items: {1, 2, 3, 4, (1, 2, 3), 'tanzim'}\n"
     ]
    }
   ],
   "source": [
    "#sets never allow duplicate elements\n",
    "S={1,2,3,2,1,4} \n",
    "print(\"Sets prints unique elements to maintain the feature of hashing:\",S)\n",
    "\n",
    "#Sets are mutable\n",
    "S.add(\"tanzim\")\n",
    "print(\"Adding item to sets\",S)\n",
    "\n",
    "#Sets have efficient membership testing\n",
    "print(\"membership in sets:\",\"tanzim\" in S)\n",
    "\n",
    "#sets can have different ds which are immutable only to maintain hashable type\n",
    "S.add((1,2,3))\n",
    "#S.add([1,2,3]) --->throws error\n",
    "print(\"Allows only immutable items:\",S)\n",
    "\n",
    "#sets are unorderd means they will not maintain any index"
   ]
  },
  {
   "cell_type": "markdown",
   "metadata": {},
   "source": [
    "6. Discuss the use cases of tuples and sets in Python programming"
   ]
  },
  {
   "cell_type": "markdown",
   "metadata": {},
   "source": [
    "1. \n",
    "In Python, tuples and sets each have unique properties that make them valuable for different use cases in programming."
   ]
  },
  {
   "cell_type": "code",
   "execution_count": 59,
   "metadata": {},
   "outputs": [
    {
     "name": "stdout",
     "output_type": "stream",
     "text": [
      "Tuples\n",
      "Tuple packing: (2, 8)\n",
      "Name: Alice, Role: Admin\n",
      "Name: Bob, Role: User\n",
      "Sets\n",
      "{1, 2, 3, 4, 'tanzim'}\n",
      "membership in sets: True\n",
      "Mathematical Set operations: {'b', 'a'} {'d', 'a', 'c', 'b'} {'d', 'c'}\n"
     ]
    }
   ],
   "source": [
    "#Use cases of Tuples\n",
    "print(\"Tuples\")\n",
    "def get_min_max(numbers):\n",
    "    return min(numbers), max(numbers)\n",
    "\n",
    "result = get_min_max([2, 8, 3])\n",
    "print(\"Tuple packing:\",result) \n",
    "\n",
    "#unpacking multiple tuples at onece\n",
    "users = [(\"Alice\", \"Admin\"), (\"Bob\", \"User\")]\n",
    "for name, role in users:\n",
    "    print(f\"Name: {name}, Role: {role}\")\n",
    "\n",
    "#Sets\n",
    "print(\"Sets\")\n",
    "S={1,2,3,2,1,4,\"tanzim\"}\n",
    "print(S) \n",
    "#Sets have efficient membership testing\n",
    "print(\"membership in sets:\",\"tanzim\" in S)\n",
    "\n",
    "#Mathematical operations\n",
    "\n",
    "Set1={\"a\",\"b\",\"c\"}\n",
    "Set2={\"a\",\"b\",\"d\"}\n",
    "print(\"Mathematical Set operations:\",Set1 & Set2,Set1 |Set2,Set1^Set2)\n",
    "\n",
    "\n"
   ]
  },
  {
   "cell_type": "markdown",
   "metadata": {},
   "source": [
    "7. Describe how to add, modify, and delete items in a dictionary with examples"
   ]
  },
  {
   "cell_type": "markdown",
   "metadata": {},
   "source": [
    "1. \n",
    "In Python, dictionaries are mutable collections of key-value pairs. You can add, modify, and delete items in a dictionary using various methods. "
   ]
  },
  {
   "cell_type": "code",
   "execution_count": 68,
   "metadata": {},
   "outputs": [
    {
     "name": "stdout",
     "output_type": "stream",
     "text": [
      "{'name': 'Tanzim', 'age': 21, 'Country': 'india'}\n",
      "{'name': 'Tanzim', 'age': 21, 'Country': 'Russia'}\n",
      "{'name': 'Taufiq', 'age': 21, 'Country': 'Rome'}\n",
      "{'name': 'Taufiq', 'age': 21}\n",
      "{'age': 21}\n",
      "{}\n"
     ]
    }
   ],
   "source": [
    "#Adding items to a Dictionary\n",
    "my_dict = {\"name\": \"Tanzim\", \"age\": 21}\n",
    "\n",
    "# Adding a new key-value pair\n",
    "my_dict[\"Country\"] = \"india\"\n",
    "print(my_dict)\n",
    "\n",
    "#Modyfying item in dict\n",
    "\n",
    "my_dict[\"Country\"]=\"Russia\"\n",
    "print(my_dict)\n",
    "\n",
    "my_dict.update({\"Country\":\"Rome\",\"name\":\"Taufiq\"})\n",
    "print(my_dict)\n",
    "\n",
    "#deleting items in dict\n",
    "\n",
    "del my_dict[\"Country\"]\n",
    "print(my_dict)\n",
    "my_dict.pop(\"name\")\n",
    "print(my_dict)\n",
    "my_dict.clear()\n",
    "print(my_dict)\n"
   ]
  },
  {
   "cell_type": "markdown",
   "metadata": {},
   "source": [
    "8. Discuss the importance of dictionary keys being immutable and provide examples"
   ]
  },
  {
   "cell_type": "markdown",
   "metadata": {},
   "source": [
    "* Dictionary keys must be immutable. This requirement is essential because dictionaries are based on a hash table implementation, and the immutability of keys ensures that their hash values do not change once they are created"
   ]
  },
  {
   "cell_type": "markdown",
   "metadata": {},
   "source": [
    "Importance of Dictionary Keys Being Immutable\n",
    "1. Hashing and Uniqueness\n",
    "Dictionary keys are hashed to store and retrieve values efficiently. A hash function converts the key into a unique integer that the dictionary uses to access the associated value.\n",
    "\n",
    "2. Data Integrity\n",
    "Immutability ensures that keys remain consistent throughout the dictionary’s life. Once a key is added to a dictionary, it can't be modified, preventing accidental changes and maintaining data integrity.\n",
    "\n",
    "3. Efficiency\n",
    "The use of immutable keys ensures that the hash function does not need to re-compute or check if the key has changed, making operations like lookup, insertion, and deletion faster and more reliable."
   ]
  },
  {
   "cell_type": "code",
   "execution_count": null,
   "metadata": {},
   "outputs": [
    {
     "name": "stdout",
     "output_type": "stream",
     "text": [
      "Alice\n"
     ]
    }
   ],
   "source": [
    "# Immutable keys\n",
    "my_dict = {(1,2,3): \"Alice\", \"age\": 30}\n",
    "print(my_dict[(1,2,3)])  # Strings ,tuples --> are immutable hence can be used as keys\n",
    "\n",
    "#mutable keys --> Invalid in nature\n",
    "# my_dict = {[1,2,3]: \"Alice\", \"age\": 30}\n",
    "# print(my_dict[1,2,3])  ---> throws an error as unhashable type \n",
    " \n",
    "\n",
    "\n"
   ]
  },
  {
   "cell_type": "markdown",
   "metadata": {},
   "source": []
  },
  {
   "cell_type": "markdown",
   "metadata": {},
   "source": []
  }
 ],
 "metadata": {
  "kernelspec": {
   "display_name": "Python 3",
   "language": "python",
   "name": "python3"
  },
  "language_info": {
   "codemirror_mode": {
    "name": "ipython",
    "version": 3
   },
   "file_extension": ".py",
   "mimetype": "text/x-python",
   "name": "python",
   "nbconvert_exporter": "python",
   "pygments_lexer": "ipython3",
   "version": "3.13.0"
  }
 },
 "nbformat": 4,
 "nbformat_minor": 2
}
