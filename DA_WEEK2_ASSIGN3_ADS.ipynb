{
 "cells": [
  {
   "cell_type": "markdown",
   "metadata": {},
   "source": [
    "Assisgnment_3"
   ]
  },
  {
   "cell_type": "markdown",
   "metadata": {},
   "source": [
    "1. Write a code to reverse a string"
   ]
  },
  {
   "cell_type": "code",
   "execution_count": null,
   "metadata": {},
   "outputs": [
    {
     "name": "stdout",
     "output_type": "stream",
     "text": [
      "lrig tnegilletni si miznaT\n",
      "lrig tnegilletni si miznaT\n"
     ]
    }
   ],
   "source": [
    "#method1\n",
    "Str=\"Tanzim is intelligent girl\"\n",
    "print(Str[::-1])\n",
    "\n",
    "#method 2\n",
    "Str1=\"\"\n",
    "for i in Str:\n",
    "    Str1=i+Str1\n",
    "\n",
    "print(Str1)"
   ]
  },
  {
   "cell_type": "markdown",
   "metadata": {},
   "source": [
    "2. Write a code to count the number of vowels in a string"
   ]
  },
  {
   "cell_type": "code",
   "execution_count": 10,
   "metadata": {},
   "outputs": [
    {
     "name": "stdout",
     "output_type": "stream",
     "text": [
      "7\n"
     ]
    }
   ],
   "source": [
    "Str=\"Data Analytics in Pwskills\"\n",
    "s=[\"a\",\"e\",\"i\",\"o\",\"u\"]\n",
    "count=0\n",
    "for i in Str:\n",
    "    if i.lower() in s:\n",
    "        count+=1\n",
    "print(count)"
   ]
  },
  {
   "cell_type": "markdown",
   "metadata": {},
   "source": [
    "3. Write a code to check if a given string is a palindrome or not"
   ]
  },
  {
   "cell_type": "code",
   "execution_count": null,
   "metadata": {},
   "outputs": [
    {
     "name": "stdout",
     "output_type": "stream",
     "text": [
      "Entered String is Palindrome\n"
     ]
    }
   ],
   "source": [
    "str=input(\"enter a string:\")   # given input as TanaT in vscode\n",
    "if str==str[::-1]:\n",
    "    print(\"Entered String is Palindrome\")\n",
    "else:\n",
    "    print(\"Entered String is not a Palindrome\")"
   ]
  },
  {
   "cell_type": "markdown",
   "metadata": {},
   "source": [
    "4. Write a code to check if two given strings are anagrams of each other"
   ]
  },
  {
   "cell_type": "markdown",
   "metadata": {},
   "source": [
    "# Strings are said to be anagram if rearranging of one forms other string"
   ]
  },
  {
   "cell_type": "code",
   "execution_count": 10,
   "metadata": {},
   "outputs": [
    {
     "name": "stdout",
     "output_type": "stream",
     "text": [
      "Strings Heart Tanzim and Earth miznat are anagram to eachother\n"
     ]
    }
   ],
   "source": [
    "str=\"Heart Tanzim\"\n",
    "str1=\"Earth miznat\"\n",
    "if sorted(str.lower())==sorted(str1.lower()):\n",
    "    print(f\"Strings {str} and {str1} are anagram to eachother\")\n",
    "else:\n",
    "    print(f\"Strings {str} and {str1} are not anagram to eachother\")"
   ]
  },
  {
   "cell_type": "markdown",
   "metadata": {},
   "source": [
    "5. Write a code to find all occurrences of a given substring within another string"
   ]
  },
  {
   "cell_type": "code",
   "execution_count": 23,
   "metadata": {},
   "outputs": [
    {
     "name": "stdout",
     "output_type": "stream",
     "text": [
      "5\n",
      "[0, 3, 5, 7, 11]\n"
     ]
    }
   ],
   "source": [
    "a = \"abcabababdcab\"\n",
    "sub = \"ab\"\n",
    "count = 0\n",
    "l = []\n",
    "\n",
    "# Loop over the string a, stopping at the second last character to avoid index errors\n",
    "for i in range(len(a) + 1):\n",
    "    # Check if the substring starting at index i matches sub\n",
    "    if a[i:i+len(sub)] == sub:\n",
    "        count += 1\n",
    "        l.append(i)\n",
    "\n",
    "print(count) \n",
    "print(l)     \n"
   ]
  },
  {
   "cell_type": "markdown",
   "metadata": {},
   "source": [
    "6. Write a code to perform basic string compression using the counts of repeated characters"
   ]
  },
  {
   "cell_type": "code",
   "execution_count": 24,
   "metadata": {},
   "outputs": [
    {
     "name": "stdout",
     "output_type": "stream",
     "text": [
      "Tanzim\n"
     ]
    }
   ],
   "source": [
    "Str=\"Taannnnzzznzim\"\n",
    "Str1=\"\"\n",
    "for i in Str:\n",
    "    if i not in Str1:\n",
    "        Str1=Str1+i\n",
    "print(Str1)"
   ]
  },
  {
   "cell_type": "markdown",
   "metadata": {},
   "source": [
    "7. Write a code to determine if a string has all unique characters"
   ]
  },
  {
   "cell_type": "code",
   "execution_count": 36,
   "metadata": {},
   "outputs": [
    {
     "name": "stdout",
     "output_type": "stream",
     "text": [
      "Taannnnzzznzim is not unique\n"
     ]
    }
   ],
   "source": [
    "Str=\"Taannnnzzznzim\"\n",
    "Str1=\"\"\n",
    "t=True\n",
    "for i in Str:\n",
    "    if i in Str1:\n",
    "        t=False\n",
    "        break\n",
    "    else:\n",
    "        Str1=str1+i\n",
    "    \n",
    "\n",
    "if t:\n",
    "    print(f\"{Str} String is Unique\")\n",
    "else:\n",
    "    print(f\"{Str} is not unique\")"
   ]
  },
  {
   "cell_type": "markdown",
   "metadata": {},
   "source": [
    " 8. Write a code to convert a given string to uppercase or lowercase"
   ]
  },
  {
   "cell_type": "code",
   "execution_count": 37,
   "metadata": {},
   "outputs": [
    {
     "name": "stdout",
     "output_type": "stream",
     "text": [
      "am a data scientist\n",
      "AM A DATA SCIENTIST\n"
     ]
    }
   ],
   "source": [
    "Str=\"Am a Data Scientist\"\n",
    "print(Str.lower())\n",
    "print(Str.upper())"
   ]
  },
  {
   "cell_type": "markdown",
   "metadata": {},
   "source": [
    "9. Write a code to count the number of words in a string"
   ]
  },
  {
   "cell_type": "code",
   "execution_count": 40,
   "metadata": {},
   "outputs": [
    {
     "name": "stdout",
     "output_type": "stream",
     "text": [
      "The Total no. of words in a string: 4\n"
     ]
    }
   ],
   "source": [
    "Str=\"Am a Data Scientist\"\n",
    "a=Str.split()\n",
    "count=0\n",
    "for i in a:\n",
    "    count=count+1\n",
    "print(\"The Total no. of words in a string:\",count)\n"
   ]
  },
  {
   "cell_type": "markdown",
   "metadata": {},
   "source": [
    "10. Write a code to concatenate two strings without using the + operator"
   ]
  },
  {
   "cell_type": "code",
   "execution_count": 41,
   "metadata": {},
   "outputs": [
    {
     "data": {
      "text/plain": [
       "'Tanzim Sultana'"
      ]
     },
     "execution_count": 41,
     "metadata": {},
     "output_type": "execute_result"
    }
   ],
   "source": [
    "Str=\"Tanzim\"\n",
    "Str1=\"Sultana\"\n",
    "Str+\" \"+Str1"
   ]
  },
  {
   "cell_type": "markdown",
   "metadata": {},
   "source": [
    "11. Write a code to remove all occurrences of a specific element from a list"
   ]
  },
  {
   "cell_type": "code",
   "execution_count": 45,
   "metadata": {},
   "outputs": [
    {
     "data": {
      "text/plain": [
       "[1, 3, 1, 'A', 'b']"
      ]
     },
     "execution_count": 45,
     "metadata": {},
     "output_type": "execute_result"
    }
   ],
   "source": [
    "l=[1,2,3,1,2,\"A\",\"b\"]\n",
    "r=int(input(\"Enter an elemnet to remove\"))\n",
    "[i for i in l if i!=r]"
   ]
  },
  {
   "cell_type": "markdown",
   "metadata": {},
   "source": [
    "12. Implement a code to find the second largest number in a given list of integers"
   ]
  },
  {
   "cell_type": "code",
   "execution_count": 57,
   "metadata": {},
   "outputs": [
    {
     "name": "stdout",
     "output_type": "stream",
     "text": [
      "Second Largest element in the List: 45\n"
     ]
    }
   ],
   "source": [
    "l1=[1,2,3,45,3,23,43,56]\n",
    "l1.sort()\n",
    "print(\"Second Largest element in the List:\",l1[len(l1)-2])\n"
   ]
  },
  {
   "cell_type": "markdown",
   "metadata": {},
   "source": [
    "13. Create a code to count the occurrences of each element in a list and return a dictionary with elements as\n",
    "keys and their counts as values"
   ]
  },
  {
   "cell_type": "code",
   "execution_count": 60,
   "metadata": {},
   "outputs": [
    {
     "name": "stdout",
     "output_type": "stream",
     "text": [
      "{'A': 1, 'a': 1, 1: 2, 2: 2, 3: 1, 4: 1}\n"
     ]
    }
   ],
   "source": [
    "l1=[\"A\",\"a\",1,2,3,4,2,1]\n",
    "d={}\n",
    "count=0\n",
    "for i in l1:\n",
    "    if i in d:\n",
    "       d[i]+=1\n",
    "    else:\n",
    "        d[i]=1\n",
    "print(d)"
   ]
  },
  {
   "cell_type": "markdown",
   "metadata": {},
   "source": [
    "14. Write a code to reverse a list in-place without using any built-in reverse functions"
   ]
  },
  {
   "cell_type": "code",
   "execution_count": 62,
   "metadata": {},
   "outputs": [
    {
     "name": "stdout",
     "output_type": "stream",
     "text": [
      "[5, 4, 3, 2, 1]\n"
     ]
    }
   ],
   "source": [
    "l1=[1,2,3,4,5]\n",
    "l2=l1[::-1]\n",
    "print(l2)"
   ]
  },
  {
   "cell_type": "markdown",
   "metadata": {},
   "source": [
    "15. Implement a code to find and remove duplicates from a list while preserving the original order of\n",
    "elements"
   ]
  },
  {
   "cell_type": "code",
   "execution_count": 1,
   "metadata": {},
   "outputs": [
    {
     "name": "stdout",
     "output_type": "stream",
     "text": [
      "[1, 2, 3, 4, 5, 'Tanzim']\n"
     ]
    }
   ],
   "source": [
    "l=[1,2,3,4,5,2,3,\"Tanzim\"]\n",
    "li=[]\n",
    "for i in l:\n",
    "    if i not in li:\n",
    "        li.append(i)\n",
    "    else:\n",
    "        pass\n",
    "print(li)"
   ]
  },
  {
   "cell_type": "markdown",
   "metadata": {},
   "source": [
    "16. Create a code to check if a given list is sorted (either in ascending or descending order) or not"
   ]
  },
  {
   "cell_type": "code",
   "execution_count": 7,
   "metadata": {},
   "outputs": [
    {
     "name": "stdout",
     "output_type": "stream",
     "text": [
      "List is sorted in either Ascending or descending order\n"
     ]
    }
   ],
   "source": [
    "l=[1,2,3,5,5,5]\n",
    "if (l == sorted(l)) or (l == sorted(l,reverse=True)):\n",
    "    print(\"List is sorted in either Ascending or descending order\")\n",
    "else:\n",
    "    print(\"List is not sorted\")"
   ]
  },
  {
   "cell_type": "markdown",
   "metadata": {},
   "source": [
    "17. Write a code to merge two sorted lists into a single sorted list"
   ]
  },
  {
   "cell_type": "code",
   "execution_count": 12,
   "metadata": {},
   "outputs": [
    {
     "name": "stdout",
     "output_type": "stream",
     "text": [
      "[1, 1, 2, 2, 3, 3, 3, 4, 4, 5, 6, 6, 7, 8]\n"
     ]
    }
   ],
   "source": [
    "def sorted_whole(list1,list2):\n",
    "    sort1=sorted(list1)\n",
    "    sort2=sorted(list2)\n",
    "    sort3=sort1+sort2\n",
    "    return sorted(sort3)\n",
    "l1=[1,2,3,5,3,4,6]\n",
    "l2=[2,3,4,6,1,8,7]\n",
    "result=sorted_whole(l1,l2)\n",
    "print(result)\n"
   ]
  },
  {
   "cell_type": "markdown",
   "metadata": {},
   "source": [
    "18. Implement a code to find the intersection of two given lists"
   ]
  },
  {
   "cell_type": "code",
   "execution_count": null,
   "metadata": {},
   "outputs": [
    {
     "name": "stdout",
     "output_type": "stream",
     "text": [
      "{3, 4}\n"
     ]
    }
   ],
   "source": [
    "l1=[1,2,3,4,5]\n",
    "l2=[\"a\",\"b\",3,4,\"c\",\"d\"]\n",
    "s1=set(l1)      # convert list to set\n",
    "s2=set(l2)\n",
    "# a=s1 & l2\n",
    "print(s1 & s2)   # print the intersection of two sets"
   ]
  },
  {
   "cell_type": "markdown",
   "metadata": {},
   "source": [
    "19. Create a code to find the union of two lists without duplicates"
   ]
  },
  {
   "cell_type": "code",
   "execution_count": 16,
   "metadata": {},
   "outputs": [
    {
     "name": "stdout",
     "output_type": "stream",
     "text": [
      "[1, 2, 3, 4, 5, 'a', 'b', 'c', 'd']\n"
     ]
    }
   ],
   "source": [
    "def union_list(list_1,list_2):\n",
    "    union=[]\n",
    "    for i in list_1:\n",
    "        if i not in union:\n",
    "            union.append(i)\n",
    "    for i in list_2:\n",
    "        if i not in union:\n",
    "            union.append(i)\n",
    "    return union\n",
    "l1=[1,2,3,3,4,4,5]\n",
    "l2=[\"a\",\"b\",3,4,\"c\",\"d\"]\n",
    "result=union_list(l1,l2)\n",
    "print(result)\n"
   ]
  },
  {
   "cell_type": "code",
   "execution_count": null,
   "metadata": {},
   "outputs": [],
   "source": [
    "20. Write a code to shuffle a given list randomly without using any built-in shuffle functions"
   ]
  },
  {
   "cell_type": "code",
   "execution_count": 18,
   "metadata": {},
   "outputs": [
    {
     "name": "stdout",
     "output_type": "stream",
     "text": [
      "[1, 3, 2, 4, 'a', 5, 'b']\n"
     ]
    }
   ],
   "source": [
    "import random\n",
    "l1=[1,2,3,4,5,\"a\",\"b\"]\n",
    "n=len(l1)\n",
    "for i in range(n-1,0,-1):\n",
    "    j=random.randint(0,i)\n",
    "    l1[i],l1[j]=l1[j],l1[i]\n",
    "print(l1)\n"
   ]
  },
  {
   "cell_type": "markdown",
   "metadata": {},
   "source": [
    "# Implementing Fisher-Yates shuffle\n",
    "\n",
    "import random\n",
    "\n",
    "for i in range(len(l) -1, 0, -1):\n",
    "  index = random.randint(0,i)  # Generate a random index between 0 and i\n",
    "\n",
    "  # Swap the elements at indices i and j\n",
    "  l[i], l[index] = l[index], l[i]\n",
    "print('Shuffled List',l)\n",
    "\n",
    "# "
   ]
  },
  {
   "cell_type": "markdown",
   "metadata": {},
   "source": [
    "21. Write a code that takes two tuples as input and returns a new tuple containing elements that are\n",
    "common to both input tuples"
   ]
  },
  {
   "cell_type": "code",
   "execution_count": 2,
   "metadata": {},
   "outputs": [
    {
     "name": "stdout",
     "output_type": "stream",
     "text": [
      "(3, 4)\n"
     ]
    }
   ],
   "source": [
    "t1=(1,2,3,4)\n",
    "t2=(3,4,5,6)\n",
    "com_tuple=tuple(i for i in t1 if i in t2)\n",
    "print(com_tuple)\n",
    "\n",
    "\n",
    "\n"
   ]
  },
  {
   "cell_type": "markdown",
   "metadata": {},
   "source": [
    "22. Create a code that prompts the user to enter two sets of integers separated by commas. Then, print the\n",
    "intersection of these two sets"
   ]
  },
  {
   "cell_type": "code",
   "execution_count": 9,
   "metadata": {},
   "outputs": [
    {
     "name": "stdout",
     "output_type": "stream",
     "text": [
      "{2, 3, 4}\n"
     ]
    }
   ],
   "source": [
    "s1=set(map(int,input(\"Enter the Set1 elements:\").split(\",\")))\n",
    "s2=set(map(int,input(\"Enter the Set2 elements:\").split(\",\")))\n",
    "print(s1 & s2)"
   ]
  },
  {
   "cell_type": "markdown",
   "metadata": {},
   "source": [
    "23. Write a code to concatenate two tuples. The function should take two tuples as input and return a new\n",
    "tuple containing elements from both input tuples."
   ]
  },
  {
   "cell_type": "code",
   "execution_count": 5,
   "metadata": {},
   "outputs": [
    {
     "name": "stdout",
     "output_type": "stream",
     "text": [
      "(1, 2, 3, 4, 4, 5, 6, 6)\n"
     ]
    }
   ],
   "source": [
    "\n",
    "def tup_com(t1,t2):\n",
    "    l3=list(t1)+list(t2)\n",
    "    return tuple(l3)\n",
    "t1=(1,2,3,4)\n",
    "t2=(4,5,6,6)\n",
    "result=tup_com(t1,t2)\n",
    "print(result)\n"
   ]
  },
  {
   "cell_type": "markdown",
   "metadata": {},
   "source": [
    "24. Develop a code that prompts the user to input two sets of strings. Then, print the elements that are\n",
    "present in the first set but not in the second set&"
   ]
  },
  {
   "cell_type": "code",
   "execution_count": null,
   "metadata": {},
   "outputs": [
    {
     "name": "stdout",
     "output_type": "stream",
     "text": [
      "{'b'}\n"
     ]
    }
   ],
   "source": [
    "s1=set(input().split(\",\"))   # {\"a\",\"b\",\"c\"}\n",
    "s2=set(input().split(\",\"))    # {\"c\",\"d\",\"a\"}\n",
    "print(s1-s2)"
   ]
  },
  {
   "cell_type": "markdown",
   "metadata": {},
   "source": [
    "25. Create a code that takes a tuple and two integers as input. The function should return a new tuple\n",
    "containing elements from the original tuple within the specified range of indices."
   ]
  },
  {
   "cell_type": "code",
   "execution_count": null,
   "metadata": {},
   "outputs": [
    {
     "name": "stdout",
     "output_type": "stream",
     "text": [
      "('f', '1', '2')\n"
     ]
    }
   ],
   "source": [
    "def new_tup(t1,i1,i2):\n",
    "    if i1<0 or i2>len(t1) or i1>i2:\n",
    "        return ()\n",
    "    l1=list(t1)\n",
    "    a=l1[i1:i2+1]\n",
    "    return tuple(a)\n",
    "\n",
    "t1=tuple(input().split())   # t1=(\"a\",\"b\"\"f\",1,2,3)\n",
    "i1=int(input())   # 2\n",
    "i2=int(input())    # 4\n",
    "result=new_tup(t1,i1,i2)\n",
    "print(result)   #('f','1','2')"
   ]
  },
  {
   "cell_type": "markdown",
   "metadata": {},
   "source": [
    "26. Write a code that prompts the user to input two sets of characters. Then, print the union of these two sets"
   ]
  },
  {
   "cell_type": "code",
   "execution_count": 20,
   "metadata": {},
   "outputs": [
    {
     "name": "stdout",
     "output_type": "stream",
     "text": [
      "{'a', 's', 'd', 'r', 't', 'g', 'b', 'f'}\n",
      "{'a', 's', 'd', 'r', 't', 'g', 'b', 'f'}\n"
     ]
    }
   ],
   "source": [
    "s1=set(input().split())  # a b s d f\n",
    "s2=set(input().split())  # s d r g t\n",
    "print(s1 | s2)\n",
    "print(s2.union(s1))\n"
   ]
  },
  {
   "cell_type": "markdown",
   "metadata": {},
   "source": [
    "27. Develop a code that takes a tuple of integers as input. The function should return the maximum and\n",
    "minimum values from the tuple using tuple unpacking"
   ]
  },
  {
   "cell_type": "code",
   "execution_count": null,
   "metadata": {},
   "outputs": [
    {
     "name": "stdout",
     "output_type": "stream",
     "text": [
      "(5, 1)\n"
     ]
    }
   ],
   "source": [
    "def tup_unpack(t1):\n",
    "    a,b=max(t1),min(t1)\n",
    "    return a,b\n",
    "\n",
    "t1=tuple(map(int,input().split()))   # 1 2 3 4 5\n",
    "res=tup_unpack(t1)\n",
    "print(res)"
   ]
  },
  {
   "cell_type": "markdown",
   "metadata": {},
   "source": [
    "28. Create a code that defines two sets of integers. Then, print the union, intersection, and difference of these\n",
    "two sets"
   ]
  },
  {
   "cell_type": "code",
   "execution_count": 23,
   "metadata": {},
   "outputs": [
    {
     "name": "stdout",
     "output_type": "stream",
     "text": [
      "union of {1, 2, 3, 4, 5} and {3, 5, 6, 7, 8} is  {1, 2, 3, 4, 5, 6, 7, 8}\n",
      "Intersection of {1, 2, 3, 4, 5} and {3, 5, 6, 7, 8} is  {3, 5}\n",
      "Difference of {1, 2, 3, 4, 5} and {3, 5, 6, 7, 8} is  {1, 2, 4}\n"
     ]
    }
   ],
   "source": [
    "s1=set(map(int,input().split()))\n",
    "s2=set(map(int,input().split()))\n",
    "print(f\"union of {s1} and {s2} is \", s1.union(s2))\n",
    "print(f\"Intersection of {s1} and {s2} is \", s1.intersection(s2))\n",
    "print(f\"Difference of {s1} and {s2} is \", s1.difference(s2))\n"
   ]
  },
  {
   "cell_type": "markdown",
   "metadata": {},
   "source": [
    "29. Write a code that takes a tuple and an element as input. The function should return the count of\n",
    "occurrences of the given element in the tuple"
   ]
  },
  {
   "cell_type": "code",
   "execution_count": 25,
   "metadata": {},
   "outputs": [
    {
     "name": "stdout",
     "output_type": "stream",
     "text": [
      "4\n"
     ]
    }
   ],
   "source": [
    "def occur(t1,elem):\n",
    "    count=0\n",
    "    for i in t1:\n",
    "        if i==elem:\n",
    "            count+=1\n",
    "    return count\n",
    "t1=input()   # 1 2 4 3 2 4 2 2 3 4\n",
    "elem=input()\n",
    "res=occur(t1,elem)\n",
    "print(res)"
   ]
  },
  {
   "cell_type": "markdown",
   "metadata": {},
   "source": [
    "30. Develop a code that prompts the user to input two sets of strings. Then, print the symmetric difference of\n",
    "these two sets"
   ]
  },
  {
   "cell_type": "code",
   "execution_count": 27,
   "metadata": {},
   "outputs": [
    {
     "name": "stdout",
     "output_type": "stream",
     "text": [
      "The Symmetric Difference of {'a', 's', 'd', 'g', 'b'} and {'s', 'd', 'x', 'g', 'z'} is  {'x', 'a', 'b', 'z'}\n"
     ]
    }
   ],
   "source": [
    "s1=set(input().split())   # a b s d g\n",
    "s2=set(input().split())   # s d g x z\n",
    "print(f\"The Symmetric Difference of {s1} and {s2} is \", s1.symmetric_difference(s2))"
   ]
  },
  {
   "cell_type": "markdown",
   "metadata": {},
   "source": [
    "31. Write a code that takes a list of words as input and returns a dictionary where the keys are unique words\n",
    "and the values are the frequencies of those words in the input list"
   ]
  },
  {
   "cell_type": "code",
   "execution_count": 28,
   "metadata": {},
   "outputs": [
    {
     "name": "stdout",
     "output_type": "stream",
     "text": [
      "Frequency occurences of word in keys and frequency in values are {'tanzim': 3, 'taufiq': 2, 'pwskills': 1}\n"
     ]
    }
   ],
   "source": [
    "def dict_freq(l1):\n",
    "    d={}\n",
    "    for i in l1:\n",
    "        if i in d:\n",
    "            d[i]+=1\n",
    "        else:\n",
    "            d[i]=1\n",
    "    return d\n",
    "l1=input().split()\n",
    "res=dict_freq(l1)\n",
    "print(f\"Frequency occurences of word in keys and frequency in values are\",res)"
   ]
  },
  {
   "cell_type": "markdown",
   "metadata": {},
   "source": [
    "32. Write a code that takes two dictionaries as input and merges them into a single dictionary. If there are\n",
    "common keys, the values should be added together"
   ]
  },
  {
   "cell_type": "code",
   "execution_count": 36,
   "metadata": {},
   "outputs": [
    {
     "name": "stdout",
     "output_type": "stream",
     "text": [
      "Addition of {'name': 'Tanzim', 'age': 21, 'gender': 'female'} and {'name': 'Sultana', 'age': 21, 'nature': 'Elegant'} is  {'name': 'TanzimSultana', 'age': 42, 'gender': 'female', 'nature': 'Elegant'}\n"
     ]
    }
   ],
   "source": [
    "def addtwo_dict(d1,d2):\n",
    "    d3=d1.copy()\n",
    "    for key,value in d2.items():\n",
    "        if key in d3:\n",
    "            d3[key]+=value\n",
    "        else:\n",
    "            d3[key]=value\n",
    "    return d3\n",
    "d1= eval(input())   \n",
    "d2= eval(input())\n",
    "res=addtwo_dict(d1,d2)\n",
    "print(f\"Addition of {d1} and {d2} is \",res)"
   ]
  },
  {
   "cell_type": "markdown",
   "metadata": {},
   "source": [
    "33. Write a code to access a value in a nested dictionary. The function should take the dictionary and a list of\n",
    "keys as input, and return the corresponding value. If any of the keys do not exist in the dictionary, the\n",
    "function should return None"
   ]
  },
  {
   "cell_type": "code",
   "execution_count": 10,
   "metadata": {},
   "outputs": [
    {
     "name": "stdout",
     "output_type": "stream",
     "text": [
      "The corresponding values are:  Btech\n"
     ]
    }
   ],
   "source": [
    "def corr_value(d1,l):\n",
    "    current=d1\n",
    "    for i in l:\n",
    "        if isinstance(current,dict) and i in current:\n",
    "            current=current[i]\n",
    "        else:\n",
    "            current=None\n",
    "            break\n",
    "    return current   \n",
    "\n",
    "d1={\"Studied\":{\"Branch\":\"Btech\"}}\n",
    "l=[\"Studied\",\"Branch\"]\n",
    "res=corr_value(d1,l)\n",
    "print(\"The corresponding values are: \",res)\n"
   ]
  },
  {
   "cell_type": "markdown",
   "metadata": {},
   "source": [
    "34. Write a code that takes a dictionary as input and returns a sorted version of it based on the values. You\n",
    "can choose whether to sort in ascending or descending order"
   ]
  },
  {
   "cell_type": "code",
   "execution_count": 25,
   "metadata": {},
   "outputs": [
    {
     "name": "stdout",
     "output_type": "stream",
     "text": [
      "{'name2': 'Tanzim', 'name3': 'aafiya', 'name': 'tanzim', 'name1': 'taufiq'}\n"
     ]
    }
   ],
   "source": [
    "def asd(di,descending=False):\n",
    "    a=sorted(di.items(),key=lambda item: item[1],reverse=descending)\n",
    "    return dict(a)\n",
    "di={\"name\":\"tanzim\",\"name1\":\"taufiq\",\"name2\":\"Tanzim\",\"name3\":\"aafiya\"}\n",
    "res=asd(di)\n",
    "print(res)"
   ]
  },
  {
   "cell_type": "markdown",
   "metadata": {},
   "source": [
    "35. Write a code that inverts a dictionary, swapping keys and values. Ensure that the inverted dictionary\n",
    "correctly handles cases where multiple keys have the same value by storing the keys as a list in the\n",
    "inverted dictionary."
   ]
  },
  {
   "cell_type": "code",
   "execution_count": 34,
   "metadata": {},
   "outputs": [
    {
     "name": "stdout",
     "output_type": "stream",
     "text": [
      "{'tanzim': ['name'], 'female': ['gender'], 'song': [(1, 2, 3)]}\n"
     ]
    }
   ],
   "source": [
    "d={\"name\":\"tanzim\",\"gender\":\"female\",(1,2,3):\"song\"}\n",
    "a= {value:[key] for key,value in d.items()}\n",
    "print(a)\n",
    "# d.values()"
   ]
  },
  {
   "cell_type": "code",
   "execution_count": 9,
   "metadata": {},
   "outputs": [
    {
     "name": "stdout",
     "output_type": "stream",
     "text": [
      "a3b3c3d2\n"
     ]
    }
   ],
   "source": [
    "a=\"aaabbbcccdd\"\n",
    "count=1\n",
    "b=\"\"\n",
    "for i in range(len(a)-1):\n",
    "    if a[i]==a[i+1]:\n",
    "        count+=1\n",
    "    else:\n",
    "        b=b+a[i]+str(count)\n",
    "        count=1\n",
    "b=b+a[-1]+str(count)\n",
    "print(b)\n"
   ]
  },
  {
   "cell_type": "markdown",
   "metadata": {},
   "source": []
  },
  {
   "cell_type": "markdown",
   "metadata": {},
   "source": []
  },
  {
   "cell_type": "markdown",
   "metadata": {},
   "source": []
  }
 ],
 "metadata": {
  "kernelspec": {
   "display_name": "base",
   "language": "python",
   "name": "python3"
  },
  "language_info": {
   "codemirror_mode": {
    "name": "ipython",
    "version": 3
   },
   "file_extension": ".py",
   "mimetype": "text/x-python",
   "name": "python",
   "nbconvert_exporter": "python",
   "pygments_lexer": "ipython3",
   "version": "3.12.7"
  }
 },
 "nbformat": 4,
 "nbformat_minor": 2
}
